{
 "cells": [
  {
   "cell_type": "code",
   "execution_count": 1,
   "metadata": {},
   "outputs": [],
   "source": [
    "#we want to mask our given email\n",
    "#Ex : sachin@gmail.com\n",
    "#mask: s####n@gmail.com\n",
    "\n",
    "s='sachin@gmail.com'\n",
    "\n",
    "if '@' in s:\n",
    "    name,domain=s.split('@')"
   ]
  },
  {
   "cell_type": "code",
   "execution_count": 2,
   "metadata": {},
   "outputs": [
    {
     "data": {
      "text/plain": [
       "'sachin'"
      ]
     },
     "execution_count": 2,
     "metadata": {},
     "output_type": "execute_result"
    }
   ],
   "source": [
    "name"
   ]
  },
  {
   "cell_type": "code",
   "execution_count": 3,
   "metadata": {},
   "outputs": [
    {
     "data": {
      "text/plain": [
       "'gmail.com'"
      ]
     },
     "execution_count": 3,
     "metadata": {},
     "output_type": "execute_result"
    }
   ],
   "source": [
    "domain"
   ]
  },
  {
   "cell_type": "code",
   "execution_count": 4,
   "metadata": {},
   "outputs": [
    {
     "data": {
      "text/plain": [
       "4"
      ]
     },
     "execution_count": 4,
     "metadata": {},
     "output_type": "execute_result"
    }
   ],
   "source": [
    "m=len(name)-2 #mask with total name without starting and ending index\n",
    "m"
   ]
  },
  {
   "cell_type": "code",
   "execution_count": 5,
   "metadata": {},
   "outputs": [],
   "source": [
    "def mask(s):\n",
    "    return ('{0}{3}{1}@{2}'.format(name[0],name[-1],domain,m*'#'))"
   ]
  },
  {
   "cell_type": "code",
   "execution_count": 6,
   "metadata": {},
   "outputs": [
    {
     "data": {
      "text/plain": [
       "'s####n@gmail.com'"
      ]
     },
     "execution_count": 6,
     "metadata": {},
     "output_type": "execute_result"
    }
   ],
   "source": [
    "mask(s)"
   ]
  },
  {
   "cell_type": "code",
   "execution_count": 7,
   "metadata": {},
   "outputs": [
    {
     "name": "stdout",
     "output_type": "stream",
     "text": [
      "sachin@gmail.com\n",
      "<re.Match object; span=(0, 16), match='sachin@gmail.com'>\n"
     ]
    }
   ],
   "source": [
    "#same problem using regular expressions\n",
    "import re\n",
    "\n",
    "regex_verbose=re.compile(r\"\"\"\n",
    "                     ^\\w+([\\.-]?\\w+)* #starts with eng characters\n",
    "                     @               #single @ sign\n",
    "                     \\w+([\\.-]?\\w+)* #domain name\n",
    "                     (\\.\\w{2,3})+$   #match .com .in\n",
    "                     \"\"\" ,re.VERBOSE | re.IGNORECASE)\n",
    "res=regex_verbose.match(s)\n",
    "print(res.string)\n",
    "print(res)"
   ]
  },
  {
   "cell_type": "code",
   "execution_count": 8,
   "metadata": {},
   "outputs": [
    {
     "name": "stdout",
     "output_type": "stream",
     "text": [
      "9282725358\n",
      "###-###-5358\n"
     ]
    }
   ],
   "source": [
    "#phone number masking\n",
    "ph=\"+92(82-7)25358\"\n",
    "degits=re.sub(\"\\D\",\"\",ph)\n",
    "\n",
    "print(degits)\n",
    "\n",
    "masked='###-###-{0}'.format(degits[-4:])\n",
    "\n",
    "print(masked)"
   ]
  },
  {
   "cell_type": "code",
   "execution_count": 9,
   "metadata": {},
   "outputs": [
    {
     "name": "stdout",
     "output_type": "stream",
     "text": [
      "###-###-2245\n"
     ]
    }
   ],
   "source": [
    "def MaskedPh(ph):\n",
    "    degits=re.sub(\"\\D\",\"\",ph)\n",
    "    if len(degits)!=10:\n",
    "        return None\n",
    "    else:\n",
    "        masked='###-###-{0}'.format(degits[-4:])\n",
    "        return masked\n",
    "\n",
    "print(MaskedPh('82775--52245'))"
   ]
  },
  {
   "cell_type": "code",
   "execution_count": 10,
   "metadata": {},
   "outputs": [],
   "source": [
    "MaskedPh('827755367454445')"
   ]
  },
  {
   "cell_type": "code",
   "execution_count": 24,
   "metadata": {},
   "outputs": [
    {
     "name": "stdout",
     "output_type": "stream",
     "text": [
      "9282725358\n",
      "+(-)\n",
      "(+92)-###-###-5358\n"
     ]
    }
   ],
   "source": [
    "#phone number masking with 12degits starting with '+' symbol and we want to output (+91)-###-###-8888\n",
    "ph=\"+92(82-7)25358\"\n",
    "degits=re.sub(\"\\D\",\"\",ph)\n",
    "sign=re.sub(\"\\d\",\"\",ph)\n",
    "\n",
    "print(degits)\n",
    "print(sign)\n",
    "\n",
    "masked='({0}{1})-###-###-{2}'.format(sign[0],degits[:2],degits[-4:])\n",
    "\n",
    "print(masked)"
   ]
  },
  {
   "cell_type": "code",
   "execution_count": 42,
   "metadata": {},
   "outputs": [
    {
     "name": "stdout",
     "output_type": "stream",
     "text": [
      "(+55)-###-###-1166\n"
     ]
    }
   ],
   "source": [
    "def MaskedPh(ph):\n",
    "    degits=re.sub(\"\\D\",\"\",ph)\n",
    "    if (ph[0]!='+') and  (len(degits)!=12):\n",
    "        return None;\n",
    "    else:\n",
    "        masked='({0}{1})-###-###-{2}'.format(sign[0],degits[:2],degits[-4:])\n",
    "        return masked\n",
    "\n",
    "print(MaskedPh('556146611+166'))"
   ]
  },
  {
   "cell_type": "code",
   "execution_count": null,
   "metadata": {},
   "outputs": [],
   "source": []
  },
  {
   "cell_type": "code",
   "execution_count": null,
   "metadata": {},
   "outputs": [],
   "source": []
  }
 ],
 "metadata": {
  "kernelspec": {
   "display_name": "Python 3",
   "language": "python",
   "name": "python3"
  },
  "language_info": {
   "codemirror_mode": {
    "name": "ipython",
    "version": 3
   },
   "file_extension": ".py",
   "mimetype": "text/x-python",
   "name": "python",
   "nbconvert_exporter": "python",
   "pygments_lexer": "ipython3",
   "version": "3.7.3"
  }
 },
 "nbformat": 4,
 "nbformat_minor": 2
}

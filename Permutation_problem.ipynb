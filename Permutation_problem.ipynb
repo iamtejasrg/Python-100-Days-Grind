{
 "cells": [
  {
   "cell_type": "code",
   "execution_count": 19,
   "metadata": {},
   "outputs": [
    {
     "name": "stdout",
     "output_type": "stream",
     "text": [
      "[[1, 4, 3], [1, 3, 4], [4, 1, 3], [4, 3, 1], [3, 1, 4], [3, 4, 1]]\n"
     ]
    }
   ],
   "source": [
    "#write the function to permutation of given number without using a library\n",
    "def permutation(s):\n",
    "    if len(s)==1: #making a starting condition\n",
    "        return [s]\n",
    "    perm_list=[]\n",
    "    for i in s:\n",
    "        #print(i)\n",
    "        remaining_elements=[x for x in s if x!=i]\n",
    "        #print(remaining_elements)\n",
    "        z=permutation(remaining_elements) #making a recursive condition\n",
    "        #print(z)\n",
    "        for t in z:\n",
    "            #print(t)\n",
    "            perm_list.append([i]+t)\n",
    "    return perm_list\n",
    "s=[1,4,3]\n",
    "p=permutation(s)\n",
    "print(p)    "
   ]
  },
  {
   "cell_type": "code",
   "execution_count": 23,
   "metadata": {},
   "outputs": [
    {
     "name": "stdout",
     "output_type": "stream",
     "text": [
      "(1, 2, 3)\n",
      "(1, 3, 2)\n",
      "(2, 1, 3)\n",
      "(2, 3, 1)\n",
      "(3, 1, 2)\n",
      "(3, 2, 1)\n"
     ]
    }
   ],
   "source": [
    "#permutation of a number with using library\n",
    "from itertools import permutations\n",
    "p=permutations([1,2,3])\n",
    "for i in p:\n",
    "    print(i)"
   ]
  },
  {
   "cell_type": "code",
   "execution_count": null,
   "metadata": {},
   "outputs": [],
   "source": []
  }
 ],
 "metadata": {
  "kernelspec": {
   "display_name": "Python 3",
   "language": "python",
   "name": "python3"
  },
  "language_info": {
   "codemirror_mode": {
    "name": "ipython",
    "version": 3
   },
   "file_extension": ".py",
   "mimetype": "text/x-python",
   "name": "python",
   "nbconvert_exporter": "python",
   "pygments_lexer": "ipython3",
   "version": "3.7.3"
  }
 },
 "nbformat": 4,
 "nbformat_minor": 2
}

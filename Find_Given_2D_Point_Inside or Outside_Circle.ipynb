{
 "cells": [
  {
   "cell_type": "markdown",
   "metadata": {},
   "source": [
    "# Find_Given_2D_Point_Inside or Outside_Circle"
   ]
  },
  {
   "cell_type": "code",
   "execution_count": 1,
   "metadata": {},
   "outputs": [
    {
     "name": "stdout",
     "output_type": "stream",
     "text": [
      "enter three values5 10 20\n"
     ]
    }
   ],
   "source": [
    "#Assign the values of centre of the cirle Cx,Cy,r\n",
    "Cx,Cy,r=map(float,input('enter three values').split())"
   ]
  },
  {
   "cell_type": "code",
   "execution_count": 2,
   "metadata": {},
   "outputs": [],
   "source": [
    "import math\n",
    "def Find_point_circle(Px,Py):\n",
    "    d=math.sqrt((Cx-Px)**2+(Cy-Py)**2)\n",
    "    print('The distance between the points from centre is:',d)\n",
    "    if d<r:\n",
    "        return ('points are inside the circle')\n",
    "    elif d>r:\n",
    "        return ('points are outside the circle')\n",
    "    else:\n",
    "         return ('points are on the circle')"
   ]
  },
  {
   "cell_type": "code",
   "execution_count": 5,
   "metadata": {},
   "outputs": [
    {
     "name": "stdout",
     "output_type": "stream",
     "text": [
      "The distance between the points from centre is: 10.0\n"
     ]
    },
    {
     "data": {
      "text/plain": [
       "'points are inside the circle'"
      ]
     },
     "execution_count": 5,
     "metadata": {},
     "output_type": "execute_result"
    }
   ],
   "source": [
    "Find_point_circle(5,20)"
   ]
  },
  {
   "cell_type": "code",
   "execution_count": 6,
   "metadata": {},
   "outputs": [
    {
     "name": "stdout",
     "output_type": "stream",
     "text": [
      "The distance between the points from centre is: 18.027756377319946\n"
     ]
    },
    {
     "data": {
      "text/plain": [
       "'points are inside the circle'"
      ]
     },
     "execution_count": 6,
     "metadata": {},
     "output_type": "execute_result"
    }
   ],
   "source": [
    "Find_point_circle(20,20)"
   ]
  },
  {
   "cell_type": "code",
   "execution_count": 7,
   "metadata": {},
   "outputs": [
    {
     "name": "stdout",
     "output_type": "stream",
     "text": [
      "The distance between the points from centre is: 26.627053911388696\n"
     ]
    },
    {
     "data": {
      "text/plain": [
       "'points are outside the circle'"
      ]
     },
     "execution_count": 7,
     "metadata": {},
     "output_type": "execute_result"
    }
   ],
   "source": [
    "Find_point_circle(20,32)"
   ]
  },
  {
   "cell_type": "code",
   "execution_count": null,
   "metadata": {},
   "outputs": [],
   "source": []
  }
 ],
 "metadata": {
  "kernelspec": {
   "display_name": "Python 3",
   "language": "python",
   "name": "python3"
  },
  "language_info": {
   "codemirror_mode": {
    "name": "ipython",
    "version": 3
   },
   "file_extension": ".py",
   "mimetype": "text/x-python",
   "name": "python",
   "nbconvert_exporter": "python",
   "pygments_lexer": "ipython3",
   "version": "3.7.3"
  }
 },
 "nbformat": 4,
 "nbformat_minor": 2
}

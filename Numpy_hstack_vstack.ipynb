{
 "cells": [
  {
   "cell_type": "markdown",
   "metadata": {},
   "source": [
    "# hstack"
   ]
  },
  {
   "cell_type": "code",
   "execution_count": 1,
   "metadata": {},
   "outputs": [],
   "source": [
    "#hstack is concataning the the arrays in to horizontal for this operation the rows in first matrix is equal to rows in second matrix otherwise it is not possible\n",
    "import numpy as np"
   ]
  },
  {
   "cell_type": "code",
   "execution_count": 5,
   "metadata": {},
   "outputs": [],
   "source": [
    "A=np.random.rand(3,4)"
   ]
  },
  {
   "cell_type": "code",
   "execution_count": 6,
   "metadata": {},
   "outputs": [],
   "source": [
    "B=np.random.rand(2,3)"
   ]
  },
  {
   "cell_type": "code",
   "execution_count": 7,
   "metadata": {},
   "outputs": [
    {
     "ename": "ValueError",
     "evalue": "all the input array dimensions except for the concatenation axis must match exactly",
     "output_type": "error",
     "traceback": [
      "\u001b[1;31m---------------------------------------------------------------------------\u001b[0m",
      "\u001b[1;31mValueError\u001b[0m                                Traceback (most recent call last)",
      "\u001b[1;32m<ipython-input-7-9a3511c7b48d>\u001b[0m in \u001b[0;36m<module>\u001b[1;34m\u001b[0m\n\u001b[1;32m----> 1\u001b[1;33m \u001b[0mC\u001b[0m\u001b[1;33m=\u001b[0m\u001b[0mnp\u001b[0m\u001b[1;33m.\u001b[0m\u001b[0mhstack\u001b[0m\u001b[1;33m(\u001b[0m\u001b[1;33m(\u001b[0m\u001b[0mA\u001b[0m\u001b[1;33m,\u001b[0m\u001b[0mB\u001b[0m\u001b[1;33m)\u001b[0m\u001b[1;33m)\u001b[0m\u001b[1;33m\u001b[0m\u001b[1;33m\u001b[0m\u001b[0m\n\u001b[0m",
      "\u001b[1;32m~\\Anaconda3\\lib\\site-packages\\numpy\\core\\shape_base.py\u001b[0m in \u001b[0;36mhstack\u001b[1;34m(tup)\u001b[0m\n\u001b[0;32m    338\u001b[0m         \u001b[1;32mreturn\u001b[0m \u001b[0m_nx\u001b[0m\u001b[1;33m.\u001b[0m\u001b[0mconcatenate\u001b[0m\u001b[1;33m(\u001b[0m\u001b[0marrs\u001b[0m\u001b[1;33m,\u001b[0m \u001b[1;36m0\u001b[0m\u001b[1;33m)\u001b[0m\u001b[1;33m\u001b[0m\u001b[1;33m\u001b[0m\u001b[0m\n\u001b[0;32m    339\u001b[0m     \u001b[1;32melse\u001b[0m\u001b[1;33m:\u001b[0m\u001b[1;33m\u001b[0m\u001b[1;33m\u001b[0m\u001b[0m\n\u001b[1;32m--> 340\u001b[1;33m         \u001b[1;32mreturn\u001b[0m \u001b[0m_nx\u001b[0m\u001b[1;33m.\u001b[0m\u001b[0mconcatenate\u001b[0m\u001b[1;33m(\u001b[0m\u001b[0marrs\u001b[0m\u001b[1;33m,\u001b[0m \u001b[1;36m1\u001b[0m\u001b[1;33m)\u001b[0m\u001b[1;33m\u001b[0m\u001b[1;33m\u001b[0m\u001b[0m\n\u001b[0m\u001b[0;32m    341\u001b[0m \u001b[1;33m\u001b[0m\u001b[0m\n\u001b[0;32m    342\u001b[0m \u001b[1;33m\u001b[0m\u001b[0m\n",
      "\u001b[1;31mValueError\u001b[0m: all the input array dimensions except for the concatenation axis must match exactly"
     ]
    }
   ],
   "source": [
    "C=np.hstack((A,B)) #because rows are mismatching"
   ]
  },
  {
   "cell_type": "code",
   "execution_count": 8,
   "metadata": {},
   "outputs": [],
   "source": [
    "B=np.random.rand(3,3)"
   ]
  },
  {
   "cell_type": "code",
   "execution_count": 11,
   "metadata": {},
   "outputs": [
    {
     "name": "stdout",
     "output_type": "stream",
     "text": [
      "(3, 4)\n",
      "(3, 3)\n"
     ]
    }
   ],
   "source": [
    "print(A.shape)\n",
    "print(B.shape)"
   ]
  },
  {
   "cell_type": "code",
   "execution_count": 12,
   "metadata": {},
   "outputs": [],
   "source": [
    "C=np.hstack((A,B))"
   ]
  },
  {
   "cell_type": "code",
   "execution_count": 13,
   "metadata": {},
   "outputs": [
    {
     "data": {
      "text/plain": [
       "array([[0.09487953, 0.37484597, 0.1921135 , 0.32398143, 0.86649457,\n",
       "        0.98032292, 0.10351916],\n",
       "       [0.60240857, 0.03556396, 0.50268864, 0.02953061, 0.09545676,\n",
       "        0.39134291, 0.61549774],\n",
       "       [0.15387141, 0.46044792, 0.33726717, 0.0872333 , 0.11868125,\n",
       "        0.0680028 , 0.71284014]])"
      ]
     },
     "execution_count": 13,
     "metadata": {},
     "output_type": "execute_result"
    }
   ],
   "source": [
    "C"
   ]
  },
  {
   "cell_type": "code",
   "execution_count": 14,
   "metadata": {},
   "outputs": [
    {
     "data": {
      "text/plain": [
       "array([[0.09487953, 0.37484597, 0.1921135 , 0.32398143],\n",
       "       [0.60240857, 0.03556396, 0.50268864, 0.02953061],\n",
       "       [0.15387141, 0.46044792, 0.33726717, 0.0872333 ]])"
      ]
     },
     "execution_count": 14,
     "metadata": {},
     "output_type": "execute_result"
    }
   ],
   "source": [
    "A"
   ]
  },
  {
   "cell_type": "code",
   "execution_count": 15,
   "metadata": {},
   "outputs": [
    {
     "data": {
      "text/plain": [
       "array([[0.86649457, 0.98032292, 0.10351916],\n",
       "       [0.09545676, 0.39134291, 0.61549774],\n",
       "       [0.11868125, 0.0680028 , 0.71284014]])"
      ]
     },
     "execution_count": 15,
     "metadata": {},
     "output_type": "execute_result"
    }
   ],
   "source": [
    "B"
   ]
  },
  {
   "cell_type": "code",
   "execution_count": 35,
   "metadata": {},
   "outputs": [],
   "source": [
    "B=np.random.rand(2,4)"
   ]
  },
  {
   "cell_type": "code",
   "execution_count": 36,
   "metadata": {},
   "outputs": [
    {
     "data": {
      "text/plain": [
       "array([[0.62439751, 0.07005903, 0.84850831, 0.49569484],\n",
       "       [0.1800542 , 0.91329109, 0.02117416, 0.13554732]])"
      ]
     },
     "execution_count": 36,
     "metadata": {},
     "output_type": "execute_result"
    }
   ],
   "source": [
    "B"
   ]
  },
  {
   "cell_type": "code",
   "execution_count": 19,
   "metadata": {},
   "outputs": [
    {
     "ename": "ValueError",
     "evalue": "all the input array dimensions except for the concatenation axis must match exactly",
     "output_type": "error",
     "traceback": [
      "\u001b[1;31m---------------------------------------------------------------------------\u001b[0m",
      "\u001b[1;31mValueError\u001b[0m                                Traceback (most recent call last)",
      "\u001b[1;32m<ipython-input-19-9a3511c7b48d>\u001b[0m in \u001b[0;36m<module>\u001b[1;34m\u001b[0m\n\u001b[1;32m----> 1\u001b[1;33m \u001b[0mC\u001b[0m\u001b[1;33m=\u001b[0m\u001b[0mnp\u001b[0m\u001b[1;33m.\u001b[0m\u001b[0mhstack\u001b[0m\u001b[1;33m(\u001b[0m\u001b[1;33m(\u001b[0m\u001b[0mA\u001b[0m\u001b[1;33m,\u001b[0m\u001b[0mB\u001b[0m\u001b[1;33m)\u001b[0m\u001b[1;33m)\u001b[0m\u001b[1;33m\u001b[0m\u001b[1;33m\u001b[0m\u001b[0m\n\u001b[0m",
      "\u001b[1;32m~\\Anaconda3\\lib\\site-packages\\numpy\\core\\shape_base.py\u001b[0m in \u001b[0;36mhstack\u001b[1;34m(tup)\u001b[0m\n\u001b[0;32m    338\u001b[0m         \u001b[1;32mreturn\u001b[0m \u001b[0m_nx\u001b[0m\u001b[1;33m.\u001b[0m\u001b[0mconcatenate\u001b[0m\u001b[1;33m(\u001b[0m\u001b[0marrs\u001b[0m\u001b[1;33m,\u001b[0m \u001b[1;36m0\u001b[0m\u001b[1;33m)\u001b[0m\u001b[1;33m\u001b[0m\u001b[1;33m\u001b[0m\u001b[0m\n\u001b[0;32m    339\u001b[0m     \u001b[1;32melse\u001b[0m\u001b[1;33m:\u001b[0m\u001b[1;33m\u001b[0m\u001b[1;33m\u001b[0m\u001b[0m\n\u001b[1;32m--> 340\u001b[1;33m         \u001b[1;32mreturn\u001b[0m \u001b[0m_nx\u001b[0m\u001b[1;33m.\u001b[0m\u001b[0mconcatenate\u001b[0m\u001b[1;33m(\u001b[0m\u001b[0marrs\u001b[0m\u001b[1;33m,\u001b[0m \u001b[1;36m1\u001b[0m\u001b[1;33m)\u001b[0m\u001b[1;33m\u001b[0m\u001b[1;33m\u001b[0m\u001b[0m\n\u001b[0m\u001b[0;32m    341\u001b[0m \u001b[1;33m\u001b[0m\u001b[0m\n\u001b[0;32m    342\u001b[0m \u001b[1;33m\u001b[0m\u001b[0m\n",
      "\u001b[1;31mValueError\u001b[0m: all the input array dimensions except for the concatenation axis must match exactly"
     ]
    }
   ],
   "source": [
    "C=np.hstack((A,B)) #hstack is not possible"
   ]
  },
  {
   "cell_type": "markdown",
   "metadata": {},
   "source": [
    "# vstack"
   ]
  },
  {
   "cell_type": "code",
   "execution_count": 21,
   "metadata": {},
   "outputs": [],
   "source": [
    "C=np.vstack((A,B))"
   ]
  },
  {
   "cell_type": "code",
   "execution_count": 22,
   "metadata": {},
   "outputs": [
    {
     "data": {
      "text/plain": [
       "array([[0.09487953, 0.37484597, 0.1921135 , 0.32398143],\n",
       "       [0.60240857, 0.03556396, 0.50268864, 0.02953061],\n",
       "       [0.15387141, 0.46044792, 0.33726717, 0.0872333 ],\n",
       "       [0.97881057, 0.12264268, 0.61559121, 0.88917785],\n",
       "       [0.18786373, 0.85443444, 0.37644769, 0.51134119]])"
      ]
     },
     "execution_count": 22,
     "metadata": {},
     "output_type": "execute_result"
    }
   ],
   "source": [
    "C"
   ]
  },
  {
   "cell_type": "code",
   "execution_count": 23,
   "metadata": {},
   "outputs": [
    {
     "data": {
      "text/plain": [
       "array([[0.09487953, 0.37484597, 0.1921135 , 0.32398143],\n",
       "       [0.60240857, 0.03556396, 0.50268864, 0.02953061],\n",
       "       [0.15387141, 0.46044792, 0.33726717, 0.0872333 ]])"
      ]
     },
     "execution_count": 23,
     "metadata": {},
     "output_type": "execute_result"
    }
   ],
   "source": [
    "A"
   ]
  },
  {
   "cell_type": "code",
   "execution_count": 38,
   "metadata": {},
   "outputs": [],
   "source": [
    "B=np.random.rand(3,4)"
   ]
  },
  {
   "cell_type": "code",
   "execution_count": 39,
   "metadata": {},
   "outputs": [
    {
     "data": {
      "text/plain": [
       "array([[0.02271793, 0.52361768, 0.65405489, 0.01863213],\n",
       "       [0.73497849, 0.02780494, 0.00494095, 0.4860456 ],\n",
       "       [0.27543743, 0.41686371, 0.18961631, 0.71452199]])"
      ]
     },
     "execution_count": 39,
     "metadata": {},
     "output_type": "execute_result"
    }
   ],
   "source": [
    "B"
   ]
  },
  {
   "cell_type": "code",
   "execution_count": 29,
   "metadata": {},
   "outputs": [],
   "source": [
    "C=np.stack((A,B))"
   ]
  },
  {
   "cell_type": "code",
   "execution_count": 30,
   "metadata": {},
   "outputs": [
    {
     "data": {
      "text/plain": [
       "array([[[0.09487953, 0.37484597, 0.1921135 , 0.32398143],\n",
       "        [0.60240857, 0.03556396, 0.50268864, 0.02953061],\n",
       "        [0.15387141, 0.46044792, 0.33726717, 0.0872333 ]],\n",
       "\n",
       "       [[0.60034346, 0.73697548, 0.38778057, 0.61840694],\n",
       "        [0.44021391, 0.1345736 , 0.2334836 , 0.4598646 ],\n",
       "        [0.04584415, 0.07812574, 0.0426587 , 0.93343592]]])"
      ]
     },
     "execution_count": 30,
     "metadata": {},
     "output_type": "execute_result"
    }
   ],
   "source": [
    "C"
   ]
  },
  {
   "cell_type": "code",
   "execution_count": 31,
   "metadata": {},
   "outputs": [
    {
     "data": {
      "text/plain": [
       "(2, 3, 4)"
      ]
     },
     "execution_count": 31,
     "metadata": {},
     "output_type": "execute_result"
    }
   ],
   "source": [
    "C.shape"
   ]
  },
  {
   "cell_type": "code",
   "execution_count": 33,
   "metadata": {},
   "outputs": [
    {
     "data": {
      "text/plain": [
       "array([[0.09487953, 0.37484597, 0.1921135 , 0.32398143],\n",
       "       [0.60240857, 0.03556396, 0.50268864, 0.02953061],\n",
       "       [0.15387141, 0.46044792, 0.33726717, 0.0872333 ],\n",
       "       [0.60034346, 0.73697548, 0.38778057, 0.61840694],\n",
       "       [0.44021391, 0.1345736 , 0.2334836 , 0.4598646 ],\n",
       "       [0.04584415, 0.07812574, 0.0426587 , 0.93343592]])"
      ]
     },
     "execution_count": 33,
     "metadata": {},
     "output_type": "execute_result"
    }
   ],
   "source": [
    "np.concatenate((A,B),axis=0) #concatinate without stacks"
   ]
  },
  {
   "cell_type": "code",
   "execution_count": 34,
   "metadata": {},
   "outputs": [
    {
     "data": {
      "text/plain": [
       "array([[0.09487953, 0.37484597, 0.1921135 , 0.32398143, 0.60034346,\n",
       "        0.73697548, 0.38778057, 0.61840694],\n",
       "       [0.60240857, 0.03556396, 0.50268864, 0.02953061, 0.44021391,\n",
       "        0.1345736 , 0.2334836 , 0.4598646 ],\n",
       "       [0.15387141, 0.46044792, 0.33726717, 0.0872333 , 0.04584415,\n",
       "        0.07812574, 0.0426587 , 0.93343592]])"
      ]
     },
     "execution_count": 34,
     "metadata": {},
     "output_type": "execute_result"
    }
   ],
   "source": [
    "np.concatenate((A,B),axis=1)"
   ]
  },
  {
   "cell_type": "code",
   "execution_count": 43,
   "metadata": {},
   "outputs": [
    {
     "data": {
      "text/plain": [
       "array([[0.09487953, 0.37484597, 0.1921135 , 0.32398143, 0.02271793,\n",
       "        0.52361768, 0.65405489, 0.01863213],\n",
       "       [0.60240857, 0.03556396, 0.50268864, 0.02953061, 0.73497849,\n",
       "        0.02780494, 0.00494095, 0.4860456 ],\n",
       "       [0.15387141, 0.46044792, 0.33726717, 0.0872333 , 0.27543743,\n",
       "        0.41686371, 0.18961631, 0.71452199]])"
      ]
     },
     "execution_count": 43,
     "metadata": {},
     "output_type": "execute_result"
    }
   ],
   "source": [
    "np.concatenate((A,B),axis=1)"
   ]
  },
  {
   "cell_type": "code",
   "execution_count": 41,
   "metadata": {},
   "outputs": [
    {
     "data": {
      "text/plain": [
       "array([[0.09487953, 0.37484597, 0.1921135 , 0.32398143],\n",
       "       [0.60240857, 0.03556396, 0.50268864, 0.02953061],\n",
       "       [0.15387141, 0.46044792, 0.33726717, 0.0872333 ],\n",
       "       [0.02271793, 0.52361768, 0.65405489, 0.01863213],\n",
       "       [0.73497849, 0.02780494, 0.00494095, 0.4860456 ],\n",
       "       [0.27543743, 0.41686371, 0.18961631, 0.71452199]])"
      ]
     },
     "execution_count": 41,
     "metadata": {},
     "output_type": "execute_result"
    }
   ],
   "source": [
    "np.concatenate((A,B))"
   ]
  },
  {
   "cell_type": "markdown",
   "metadata": {},
   "source": [
    "# stacks using 3D array"
   ]
  },
  {
   "cell_type": "code",
   "execution_count": 44,
   "metadata": {},
   "outputs": [],
   "source": [
    "A=np.random.rand(5,3,2)\n",
    "B=np.random.rand(5,1,2)"
   ]
  },
  {
   "cell_type": "code",
   "execution_count": 47,
   "metadata": {},
   "outputs": [],
   "source": [
    "C=np.hstack((A,B))"
   ]
  },
  {
   "cell_type": "code",
   "execution_count": 48,
   "metadata": {},
   "outputs": [
    {
     "data": {
      "text/plain": [
       "array([[[0.23124548, 0.40609121],\n",
       "        [0.63796165, 0.2959105 ],\n",
       "        [0.21787461, 0.53844123],\n",
       "        [0.78333587, 0.10845101]],\n",
       "\n",
       "       [[0.3804634 , 0.55867137],\n",
       "        [0.61301297, 0.85265589],\n",
       "        [0.39528273, 0.38828823],\n",
       "        [0.618928  , 0.44125036]],\n",
       "\n",
       "       [[0.03805059, 0.41408165],\n",
       "        [0.02743237, 0.11678411],\n",
       "        [0.72932633, 0.86485792],\n",
       "        [0.00722755, 0.06271598]],\n",
       "\n",
       "       [[0.3056286 , 0.58279376],\n",
       "        [0.9081977 , 0.94469551],\n",
       "        [0.31044938, 0.2016267 ],\n",
       "        [0.56820967, 0.69314186]],\n",
       "\n",
       "       [[0.67095604, 0.00440383],\n",
       "        [0.68697814, 0.95320539],\n",
       "        [0.91354373, 0.84551324],\n",
       "        [0.95028244, 0.95939515]]])"
      ]
     },
     "execution_count": 48,
     "metadata": {},
     "output_type": "execute_result"
    }
   ],
   "source": [
    "C"
   ]
  },
  {
   "cell_type": "code",
   "execution_count": 49,
   "metadata": {},
   "outputs": [
    {
     "data": {
      "text/plain": [
       "(5, 4, 2)"
      ]
     },
     "execution_count": 49,
     "metadata": {},
     "output_type": "execute_result"
    }
   ],
   "source": [
    "C.shape"
   ]
  },
  {
   "cell_type": "code",
   "execution_count": 50,
   "metadata": {},
   "outputs": [],
   "source": [
    "A=np.random.rand(4,4,2)\n",
    "B=np.random.rand(5,1,2)"
   ]
  },
  {
   "cell_type": "code",
   "execution_count": 51,
   "metadata": {},
   "outputs": [
    {
     "ename": "ValueError",
     "evalue": "all the input array dimensions except for the concatenation axis must match exactly",
     "output_type": "error",
     "traceback": [
      "\u001b[1;31m---------------------------------------------------------------------------\u001b[0m",
      "\u001b[1;31mValueError\u001b[0m                                Traceback (most recent call last)",
      "\u001b[1;32m<ipython-input-51-9a3511c7b48d>\u001b[0m in \u001b[0;36m<module>\u001b[1;34m\u001b[0m\n\u001b[1;32m----> 1\u001b[1;33m \u001b[0mC\u001b[0m\u001b[1;33m=\u001b[0m\u001b[0mnp\u001b[0m\u001b[1;33m.\u001b[0m\u001b[0mhstack\u001b[0m\u001b[1;33m(\u001b[0m\u001b[1;33m(\u001b[0m\u001b[0mA\u001b[0m\u001b[1;33m,\u001b[0m\u001b[0mB\u001b[0m\u001b[1;33m)\u001b[0m\u001b[1;33m)\u001b[0m\u001b[1;33m\u001b[0m\u001b[1;33m\u001b[0m\u001b[0m\n\u001b[0m",
      "\u001b[1;32m~\\Anaconda3\\lib\\site-packages\\numpy\\core\\shape_base.py\u001b[0m in \u001b[0;36mhstack\u001b[1;34m(tup)\u001b[0m\n\u001b[0;32m    338\u001b[0m         \u001b[1;32mreturn\u001b[0m \u001b[0m_nx\u001b[0m\u001b[1;33m.\u001b[0m\u001b[0mconcatenate\u001b[0m\u001b[1;33m(\u001b[0m\u001b[0marrs\u001b[0m\u001b[1;33m,\u001b[0m \u001b[1;36m0\u001b[0m\u001b[1;33m)\u001b[0m\u001b[1;33m\u001b[0m\u001b[1;33m\u001b[0m\u001b[0m\n\u001b[0;32m    339\u001b[0m     \u001b[1;32melse\u001b[0m\u001b[1;33m:\u001b[0m\u001b[1;33m\u001b[0m\u001b[1;33m\u001b[0m\u001b[0m\n\u001b[1;32m--> 340\u001b[1;33m         \u001b[1;32mreturn\u001b[0m \u001b[0m_nx\u001b[0m\u001b[1;33m.\u001b[0m\u001b[0mconcatenate\u001b[0m\u001b[1;33m(\u001b[0m\u001b[0marrs\u001b[0m\u001b[1;33m,\u001b[0m \u001b[1;36m1\u001b[0m\u001b[1;33m)\u001b[0m\u001b[1;33m\u001b[0m\u001b[1;33m\u001b[0m\u001b[0m\n\u001b[0m\u001b[0;32m    341\u001b[0m \u001b[1;33m\u001b[0m\u001b[0m\n\u001b[0;32m    342\u001b[0m \u001b[1;33m\u001b[0m\u001b[0m\n",
      "\u001b[1;31mValueError\u001b[0m: all the input array dimensions except for the concatenation axis must match exactly"
     ]
    }
   ],
   "source": [
    "C=np.hstack((A,B)) #not possible because length is not matching h stack"
   ]
  },
  {
   "cell_type": "code",
   "execution_count": 52,
   "metadata": {},
   "outputs": [],
   "source": [
    "A=np.random.rand(4,2,2)\n",
    "B=np.random.rand(5,2,2)"
   ]
  },
  {
   "cell_type": "code",
   "execution_count": 53,
   "metadata": {},
   "outputs": [],
   "source": [
    "C=np.vstack((A,B))"
   ]
  },
  {
   "cell_type": "code",
   "execution_count": 54,
   "metadata": {},
   "outputs": [
    {
     "data": {
      "text/plain": [
       "array([[[0.06535597, 0.63067676],\n",
       "        [0.40120768, 0.1199108 ]],\n",
       "\n",
       "       [[0.95069177, 0.52914097],\n",
       "        [0.28500301, 0.20521552]],\n",
       "\n",
       "       [[0.83682493, 0.85914777],\n",
       "        [0.33181102, 0.10736054]],\n",
       "\n",
       "       [[0.78652566, 0.72071479],\n",
       "        [0.70788265, 0.42309865]],\n",
       "\n",
       "       [[0.81944637, 0.85062546],\n",
       "        [0.3723811 , 0.34734551]],\n",
       "\n",
       "       [[0.98155344, 0.84207694],\n",
       "        [0.97810325, 0.95501091]],\n",
       "\n",
       "       [[0.29590124, 0.5150725 ],\n",
       "        [0.50194767, 0.30388293]],\n",
       "\n",
       "       [[0.18787179, 0.71319547],\n",
       "        [0.39498187, 0.52306569]],\n",
       "\n",
       "       [[0.08715097, 0.33696452],\n",
       "        [0.76298255, 0.65922613]]])"
      ]
     },
     "execution_count": 54,
     "metadata": {},
     "output_type": "execute_result"
    }
   ],
   "source": [
    "C"
   ]
  },
  {
   "cell_type": "code",
   "execution_count": 55,
   "metadata": {},
   "outputs": [
    {
     "data": {
      "text/plain": [
       "(9, 2, 2)"
      ]
     },
     "execution_count": 55,
     "metadata": {},
     "output_type": "execute_result"
    }
   ],
   "source": [
    "C.shape"
   ]
  },
  {
   "cell_type": "code",
   "execution_count": 58,
   "metadata": {},
   "outputs": [],
   "source": [
    "A=np.random.rand(5,4,2)\n",
    "B=np.random.rand(5,4,2)"
   ]
  },
  {
   "cell_type": "code",
   "execution_count": 59,
   "metadata": {},
   "outputs": [],
   "source": [
    "C=np.stack((A,B))"
   ]
  },
  {
   "cell_type": "code",
   "execution_count": 60,
   "metadata": {},
   "outputs": [
    {
     "data": {
      "text/plain": [
       "array([[[[0.254525  , 0.64399947],\n",
       "         [0.80335167, 0.61635665],\n",
       "         [0.08314896, 0.48275618],\n",
       "         [0.80434723, 0.18315225]],\n",
       "\n",
       "        [[0.44913315, 0.17534095],\n",
       "         [0.31293247, 0.09640816],\n",
       "         [0.15030643, 0.16070838],\n",
       "         [0.42182283, 0.85594607]],\n",
       "\n",
       "        [[0.12446859, 0.44568911],\n",
       "         [0.53290418, 0.76770437],\n",
       "         [0.54329766, 0.03163408],\n",
       "         [0.89064633, 0.54490675]],\n",
       "\n",
       "        [[0.28600451, 0.97816322],\n",
       "         [0.96126533, 0.54961383],\n",
       "         [0.18581606, 0.75284081],\n",
       "         [0.10106923, 0.62888228]],\n",
       "\n",
       "        [[0.91405136, 0.12301179],\n",
       "         [0.866619  , 0.84696902],\n",
       "         [0.0230442 , 0.32257604],\n",
       "         [0.36545312, 0.69395578]]],\n",
       "\n",
       "\n",
       "       [[[0.35216615, 0.47209495],\n",
       "         [0.40410371, 0.85127318],\n",
       "         [0.37679781, 0.12101305],\n",
       "         [0.75086659, 0.64042809]],\n",
       "\n",
       "        [[0.99202436, 0.57568243],\n",
       "         [0.26404805, 0.60886762],\n",
       "         [0.95889463, 0.76704933],\n",
       "         [0.62944014, 0.99169763]],\n",
       "\n",
       "        [[0.26090348, 0.03435588],\n",
       "         [0.24433525, 0.34642477],\n",
       "         [0.92759789, 0.68280661],\n",
       "         [0.39393629, 0.52296355]],\n",
       "\n",
       "        [[0.54825595, 0.89608197],\n",
       "         [0.88658477, 0.3492314 ],\n",
       "         [0.80977615, 0.68908367],\n",
       "         [0.506385  , 0.86305332]],\n",
       "\n",
       "        [[0.4386525 , 0.52378268],\n",
       "         [0.70118897, 0.0793919 ],\n",
       "         [0.09119096, 0.67023895],\n",
       "         [0.92170308, 0.81299722]]]])"
      ]
     },
     "execution_count": 60,
     "metadata": {},
     "output_type": "execute_result"
    }
   ],
   "source": [
    "C"
   ]
  },
  {
   "cell_type": "code",
   "execution_count": 61,
   "metadata": {},
   "outputs": [
    {
     "data": {
      "text/plain": [
       "(2, 5, 4, 2)"
      ]
     },
     "execution_count": 61,
     "metadata": {},
     "output_type": "execute_result"
    }
   ],
   "source": [
    "C.shape"
   ]
  },
  {
   "cell_type": "code",
   "execution_count": null,
   "metadata": {},
   "outputs": [],
   "source": []
  }
 ],
 "metadata": {
  "kernelspec": {
   "display_name": "Python 3",
   "language": "python",
   "name": "python3"
  },
  "language_info": {
   "codemirror_mode": {
    "name": "ipython",
    "version": 3
   },
   "file_extension": ".py",
   "mimetype": "text/x-python",
   "name": "python",
   "nbconvert_exporter": "python",
   "pygments_lexer": "ipython3",
   "version": "3.7.3"
  }
 },
 "nbformat": 4,
 "nbformat_minor": 2
}

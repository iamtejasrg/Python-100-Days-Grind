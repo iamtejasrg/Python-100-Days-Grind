{
 "cells": [
  {
   "cell_type": "code",
   "execution_count": 1,
   "metadata": {},
   "outputs": [],
   "source": [
    "#importing the libraries\n",
    "import numpy as np\n",
    "import math"
   ]
  },
  {
   "cell_type": "code",
   "execution_count": 18,
   "metadata": {},
   "outputs": [
    {
     "name": "stdout",
     "output_type": "stream",
     "text": [
      "Circle 1 is :4 5 0\n",
      "4.0 5.0 0.0\n"
     ]
    }
   ],
   "source": [
    "#compute the two circles are intersecting at same point\n",
    "# idea if distance b/w two circles from centers is lessthan sum of both radius than both circles are intersecting at same point \n",
    "c1_x,c1_y,c1_r=map(float,input('Circle 1 is :').split())\n",
    "print(c1_x,c1_y,c1_r)"
   ]
  },
  {
   "cell_type": "code",
   "execution_count": 19,
   "metadata": {},
   "outputs": [
    {
     "name": "stdout",
     "output_type": "stream",
     "text": [
      "Circle 2 is :2 4 8\n",
      "2.0 4.0 8.0\n"
     ]
    }
   ],
   "source": [
    "c2_x,c2_y,c2_r=map(float,input('Circle 2 is :').split())\n",
    "print(c2_x,c2_y,c2_r)"
   ]
  },
  {
   "cell_type": "code",
   "execution_count": 20,
   "metadata": {},
   "outputs": [
    {
     "name": "stdout",
     "output_type": "stream",
     "text": [
      "intersect at one point\n"
     ]
    }
   ],
   "source": [
    "distance=math.sqrt((c2_x-c1_x)**2+(c2_y-c1_y)**2)\n",
    "if distance < c1_r+c2_r:\n",
    "    print('intersect at one point')\n",
    "else:\n",
    "    print('Not intersect at one point')"
   ]
  },
  {
   "cell_type": "code",
   "execution_count": 21,
   "metadata": {},
   "outputs": [
    {
     "data": {
      "text/plain": [
       "2.23606797749979"
      ]
     },
     "execution_count": 21,
     "metadata": {},
     "output_type": "execute_result"
    }
   ],
   "source": [
    "distance"
   ]
  },
  {
   "cell_type": "code",
   "execution_count": 22,
   "metadata": {},
   "outputs": [
    {
     "data": {
      "text/plain": [
       "8.0"
      ]
     },
     "execution_count": 22,
     "metadata": {},
     "output_type": "execute_result"
    }
   ],
   "source": [
    "c1_r+c2_r"
   ]
  },
  {
   "cell_type": "code",
   "execution_count": null,
   "metadata": {},
   "outputs": [],
   "source": []
  }
 ],
 "metadata": {
  "kernelspec": {
   "display_name": "Python 3",
   "language": "python",
   "name": "python3"
  },
  "language_info": {
   "codemirror_mode": {
    "name": "ipython",
    "version": 3
   },
   "file_extension": ".py",
   "mimetype": "text/x-python",
   "name": "python",
   "nbconvert_exporter": "python",
   "pygments_lexer": "ipython3",
   "version": "3.7.3"
  }
 },
 "nbformat": 4,
 "nbformat_minor": 2
}
